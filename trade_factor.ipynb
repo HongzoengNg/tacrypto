{
 "cells": [
  {
   "cell_type": "code",
   "execution_count": 1,
   "metadata": {},
   "outputs": [],
   "source": [
    "import pandas as pd\n",
    "import matplotlib.pyplot as plt\n",
    "\n",
    "from pandas.plotting import register_matplotlib_converters\n",
    "register_matplotlib_converters()\n",
    "\n",
    "import talib\n",
    "import json\n",
    "import requests\n",
    "\n",
    "import numpy as np\n",
    "import os\n",
    "import gc"
   ]
  },
  {
   "cell_type": "code",
   "execution_count": 2,
   "metadata": {},
   "outputs": [],
   "source": [
    "# trade to minute\n",
    "# klineList = []\n",
    "# for filename in os.listdir(\"./binance_swap_trade/\")[:2]:\n",
    "#     if filename.endswith('csv'):\n",
    "#         tmp_trade = pd.read_csv(\"./binance_swap_trade/\" + filename)\n",
    "\n",
    "#         tmp_trade.columns = ['price', 'volume', 'action', 'time']\n",
    "#         tmp_trade['time'] = pd.to_datetime(tmp_trade['time'], unit='ms')\n",
    "#         tmp_trade.set_index('time', inplace=True)\n",
    "#         for col in ['open', 'high', 'low', 'close']:\n",
    "#             tmp_trade[col] = tmp_trade['price']\n",
    "#         tmp_trade['turnover'] = tmp_trade['price'] * tmp_trade['volume']\n",
    "#         tmp_min_df = tmp_trade.resample('1min').agg(\n",
    "#             {\n",
    "#                 \"open\": 'first',\n",
    "#                 'high': 'max',\n",
    "#                 'low': 'min',\n",
    "#                 'close': 'last',\n",
    "#                 \"volume\": 'sum',\n",
    "#                 \"turnover\": 'sum'\n",
    "#             }\n",
    "#         ).round(3)[['open', 'high', 'low', 'close', 'volume', 'turnover']]\n",
    "#         klineList.append(tmp_min_df)\n",
    "#         del tmp_trade\n",
    "#         del tmp_min_df\n",
    "#         gc.collect()\n",
    "\n",
    "# kline_df = pd.concat(klineList)\n",
    "# kline_df\n",
    "\n",
    "# kline_df.to_csv('binance_swap_kline.BTCUSDT.from_trade.csv')"
   ]
  },
  {
   "cell_type": "code",
   "execution_count": 8,
   "metadata": {},
   "outputs": [
    {
     "data": {
      "image/png": "[encoded data removed]",
      "text/plain": [
       "<Figure size 1440x216 with 1 Axes>"
      ]
     },
     "metadata": {
      "needs_background": "light"
     },
     "output_type": "display_data"
    }
   ],
   "source": [
    "# plt.figure(figsize=(20, 3))\n",
    "# ax = plt.axes()\n",
    "# # vector, bins, patches = ax.hist(trade_df['turnover'].values, bins=1000, range=(0, 10000))\n",
    "# vector, bins, patches = ax.hist(trade_df['turnover'].values, bins=1000, range=(5, 20000), cumulative=True, density=True)"
   ]
  },
  {
   "cell_type": "code",
   "execution_count": 47,
   "metadata": {},
   "outputs": [],
   "source": [
    "# def get_threshold(vector, bins):\n",
    "#     pos = 0\n",
    "#     for i in range(len(vector)):\n",
    "#         if vector[i] > 0.3:\n",
    "#             th_1 = int(bins[i])\n",
    "#             pos = i\n",
    "#             break\n",
    "\n",
    "#     for i in range(pos, len(vector)):\n",
    "#         if vector[i] > 0.6:\n",
    "#             th_2 = int(bins[i])\n",
    "#             pos = i\n",
    "#             break\n",
    "\n",
    "#     for i in range(pos, len(vector)):\n",
    "#         if vector[i] > 0.9:\n",
    "#             th_3 = int(bins[i])\n",
    "#             pos = i\n",
    "#             break\n",
    "\n",
    "\n",
    "#     print(\"turnover threshold 1:\", th_1)\n",
    "#     print(\"turnover threshold 2:\", th_2)\n",
    "#     print(\"turnover threshold 3:\", th_3)\n",
    "    \n",
    "#     return th_1, th_2, th_3"
   ]
  },
  {
   "cell_type": "code",
   "execution_count": 2,
   "metadata": {},
   "outputs": [],
   "source": [
    "# th_1, th_2, th_3, th_4 = get_threshold(vector, bins)\n",
    "th_1, th_2, th_3 = 5000, 10000, 15000"
   ]
  },
  {
   "cell_type": "code",
   "execution_count": 3,
   "metadata": {},
   "outputs": [],
   "source": [
    "# 散户主动做多\n",
    "def getSmallOrderBuy(df):\n",
    "    return df[\n",
    "        (df['turnover'] < th_1) & (df['action'] == 'BUY') \n",
    "    ][['volume', 'turnover']].sum().rename({'volume': 'SmallBuyOrderVolume', 'turnover': 'SmallBuyOrderTurnover'})\n",
    "\n",
    "# 散户主动做空\n",
    "def getSmallOrderSell(df):\n",
    "    return df[\n",
    "        (df['turnover'] < th_1) & (df['action'] == 'SELL') \n",
    "    ][['volume', 'turnover']].sum().rename({'volume': 'SmallSellOrderVolume', 'turnover': 'SmallSellOrderTurnover'})\n",
    "\n",
    "# 中户主动做多\n",
    "def getMediumOrderBuy(df):\n",
    "    return df[\n",
    "        (df['turnover'] >= th_1) & (df['turnover'] < th_2) & (df['action'] == 'BUY') \n",
    "    ][['volume', 'turnover']].sum().rename({'volume': 'MediumBuyOrderVolume', 'turnover': 'MediumBuyOrderTurnover'})\n",
    "\n",
    "# 中户主动做空\n",
    "def getMediumOrderSell(df):\n",
    "    return df[\n",
    "        (df['turnover'] >= th_1) & (df['turnover'] < th_2) & (df['action'] == 'SELL') \n",
    "    ][['volume', 'turnover']].sum().rename({'volume': 'MediumSellOrderVolume', 'turnover': 'MediumSellOrderTurnover'})\n",
    "\n",
    "# 大户主动做多\n",
    "def getLargeOrderBuy(df):\n",
    "    return df[\n",
    "        (df['turnover'] >= th_2) & (df['turnover'] < th_3) & (df['action'] == 'BUY') \n",
    "    ][['volume', 'turnover']].sum().rename({'volume': 'LargeBuyOrderVolume', 'turnover': 'LargeBuyOrderTurnover'})\n",
    "\n",
    "# 大户主动做空\n",
    "def getLargeOrderSell(df):\n",
    "    return df[\n",
    "        (df['turnover'] >= th_2) & (df['turnover'] < th_3) & (df['action'] == 'SELL') \n",
    "    ][['volume', 'turnover']].sum().rename({'volume': 'LargeSellOrderVolume', 'turnover': 'LargeSellOrderTurnover'})\n",
    "\n",
    "# 特大户主动做多\n",
    "def getSuperLargeOrderBuy(df):\n",
    "    return df[\n",
    "        (df['turnover'] >= th_3) & (df['action'] == 'BUY') \n",
    "    ][['volume', 'turnover']].sum().rename({'volume': 'SuperLargeBuyOrderVolume', 'turnover': 'SuperLargeBuyOrderTurnover'})\n",
    "\n",
    "# 特大户主动做空\n",
    "def getSuperLargeOrderSell(df):\n",
    "    return df[\n",
    "        (df['turnover'] >= th_3) & (df['action'] == 'SELL') \n",
    "    ][['volume', 'turnover']].sum().rename({'volume': 'SuperLargeSellOrderVolume', 'turnover': 'SuperLargeSellOrderTurnover'})\n",
    "\n",
    "activeOrderFuncList = [\n",
    "    getSmallOrderBuy, getSmallOrderSell,\n",
    "    getMediumOrderBuy, getMediumOrderSell,\n",
    "    getLargeOrderBuy, getLargeOrderSell,\n",
    "    getSuperLargeOrderBuy, getSuperLargeOrderSell\n",
    "]"
   ]
  },
  {
   "cell_type": "code",
   "execution_count": 4,
   "metadata": {},
   "outputs": [
    {
     "name": "stdout",
     "output_type": "stream",
     "text": [
      "20201217"
     ]
    }
   ],
   "source": [
    "for filename in os.listdir(\"./binance_swap_trade/\"):\n",
    "    if filename.endswith('csv'):\n",
    "        datestr = filename.split(\".\")[-2]\n",
    "        print(\"\\r\" + datestr, end=\"\")\n",
    "        trade_df = pd.read_csv(\"./binance_swap_trade/\" + filename)\n",
    "        trade_df.columns = ['price', 'volume', 'action', 'time']\n",
    "        trade_df['time'] = pd.to_datetime(trade_df['time'], unit='ms')\n",
    "        trade_df.set_index('time', inplace=True)\n",
    "        trade_df['turnover'] = (trade_df['price'] * trade_df['volume']).round(3)\n",
    "\n",
    "        MoneyFlow_df_list = []\n",
    "        for func in activeOrderFuncList:\n",
    "            tmp_df = trade_df.groupby(pd.Grouper(freq='1min')).apply(func)\n",
    "            MoneyFlow_df_list.append(tmp_df)\n",
    "\n",
    "        MoneyFlow_df = pd.concat(MoneyFlow_df_list, axis=1)\n",
    "\n",
    "        MoneyFlow_df['NetSuperLargeBuyTurnover'] = MoneyFlow_df['SuperLargeBuyOrderTurnover'] - MoneyFlow_df['SuperLargeSellOrderTurnover']\n",
    "        MoneyFlow_df['NetLargeBuyTurnover'] = MoneyFlow_df['LargeBuyOrderTurnover'] - MoneyFlow_df['LargeSellOrderTurnover']\n",
    "        MoneyFlow_df['NetMediumBuyTurnover'] = MoneyFlow_df['MediumBuyOrderTurnover'] - MoneyFlow_df['MediumSellOrderTurnover']\n",
    "        MoneyFlow_df['NetSmallBuyTurnover'] = MoneyFlow_df['SmallBuyOrderTurnover'] - MoneyFlow_df['SmallSellOrderTurnover']\n",
    "\n",
    "        MoneyFlow_df['NetSuperLargeBuyVolume'] = MoneyFlow_df['SuperLargeBuyOrderVolume'] - MoneyFlow_df['SuperLargeSellOrderVolume']\n",
    "        MoneyFlow_df['NetLargeBuyVolume'] = MoneyFlow_df['LargeBuyOrderVolume'] - MoneyFlow_df['LargeSellOrderVolume']\n",
    "        MoneyFlow_df['NetMediumBuyVolume'] = MoneyFlow_df['MediumBuyOrderVolume'] - MoneyFlow_df['MediumSellOrderVolume']\n",
    "        MoneyFlow_df['NetSmallBuyVolume'] = MoneyFlow_df['SmallBuyOrderVolume'] - MoneyFlow_df['SmallSellOrderVolume']\n",
    "\n",
    "        # 净流入金额\n",
    "        MoneyFlow_df['NetFlowTurnover'] = MoneyFlow_df[['NetSuperLargeBuyTurnover', 'NetLargeBuyTurnover', 'NetMediumBuyTurnover', 'NetSmallBuyTurnover']].sum(axis=1)\n",
    "\n",
    "        # 净流入量\n",
    "        MoneyFlow_df['NetFlowVolume'] = MoneyFlow_df[['NetSuperLargeBuyVolume', 'NetLargeBuyVolume', 'NetMediumBuyVolume', 'NetSmallBuyVolume']].sum(axis=1)\n",
    "\n",
    "        # 总交易量\n",
    "        MoneyFlow_df['volume'] = MoneyFlow_df[\n",
    "            [\n",
    "                'SuperLargeBuyOrderVolume', 'SuperLargeSellOrderVolume', 'LargeBuyOrderVolume', 'LargeSellOrderVolume',\n",
    "                'MediumBuyOrderVolume', 'MediumSellOrderVolume', 'SmallBuyOrderVolume', 'SmallSellOrderVolume'\n",
    "            ]\n",
    "        ].sum(axis=1)\n",
    "\n",
    "        # 总交易额\n",
    "        MoneyFlow_df['turnover'] = MoneyFlow_df[\n",
    "            [\n",
    "                'SuperLargeBuyOrderTurnover', 'SuperLargeSellOrderTurnover', 'LargeBuyOrderTurnover', 'LargeSellOrderTurnover',\n",
    "                'MediumBuyOrderTurnover', 'MediumSellOrderTurnover', 'SmallBuyOrderTurnover', 'SmallSellOrderTurnover'\n",
    "            ]\n",
    "        ].sum(axis=1)\n",
    "\n",
    "        # 净流入率（金额）\n",
    "        MoneyFlow_df['NetFlowTurnover_Rate'] = MoneyFlow_df['NetFlowTurnover'] / MoneyFlow_df['turnover']\n",
    "\n",
    "        # 大单净流入量\n",
    "        MoneyFlow_df['LargeOrderVolume'] = MoneyFlow_df['NetSuperLargeBuyVolume'] + MoneyFlow_df['NetLargeBuyVolume']\n",
    "        # 大单净流入金额\n",
    "        MoneyFlow_df['LargeOrderTurnover'] = MoneyFlow_df['NetSuperLargeBuyTurnover'] + MoneyFlow_df['NetLargeBuyTurnover']\n",
    "        # 大单流入率(金额)\n",
    "        MoneyFlow_df['NetFlowLargeOrderTurnover_Rate'] = MoneyFlow_df['LargeOrderTurnover'] / MoneyFlow_df['turnover']\n",
    "\n",
    "        # 小单净流入量\n",
    "        MoneyFlow_df['SmallOrderVolume'] = MoneyFlow_df['NetSmallBuyVolume'] + MoneyFlow_df['NetMediumBuyVolume']\n",
    "        # 小单净流入金额\n",
    "        MoneyFlow_df['SmallOrderTurnover'] = MoneyFlow_df['NetSmallBuyTurnover'] + MoneyFlow_df['NetMediumBuyTurnover']\n",
    "        # 小单流入率(金额)\n",
    "        MoneyFlow_df['NetFlowSmallOrderTurnover_Rate'] = MoneyFlow_df['SmallOrderTurnover'] / MoneyFlow_df['turnover']\n",
    "\n",
    "        # 主动做多量\n",
    "        MoneyFlow_df['BuyOrderVolume'] = MoneyFlow_df[['SmallBuyOrderVolume', 'MediumBuyOrderVolume', 'LargeBuyOrderVolume', 'SuperLargeBuyOrderVolume']].sum(axis=1)\n",
    "        # 主动做空量\n",
    "        MoneyFlow_df['SellOrderVolume'] = MoneyFlow_df[['SmallSellOrderVolume', 'MediumSellOrderVolume', 'LargeSellOrderVolume', 'SuperLargeSellOrderVolume']].sum(axis=1)\n",
    "\n",
    "        # 合约多空比\n",
    "        MoneyFlow_df['LongShortRatio'] = MoneyFlow_df['BuyOrderVolume'] / MoneyFlow_df['SellOrderVolume']\n",
    "\n",
    "        MoneyFlow_df.round(3).to_csv('./binance_swap_MoneyFlowFactor/{}.csv'.format(datestr))\n",
    "        \n",
    "        del trade_df\n",
    "        gc.collect()"
   ]
  },
  {
   "cell_type": "code",
   "execution_count": 8,
   "metadata": {},
   "outputs": [],
   "source": [
    "money_flow_df_list = []\n",
    "for filename in os.listdir('./binance_swap_MoneyFlowFactor/'):\n",
    "    if filename.endswith('.csv'):\n",
    "        df = pd.read_csv('./binance_swap_MoneyFlowFactor/' + filename, index_col=0)\n",
    "        money_flow_df_list.append(df)\n",
    "money_flow_df = pd.concat(money_flow_df_list)"
   ]
  },
  {
   "cell_type": "code",
   "execution_count": 10,
   "metadata": {},
   "outputs": [],
   "source": [
    "# 主动做多移动平均(5min)-收益率(3min)\n",
    "money_flow_df['ReturnRate_MA_5_BuyOrderVolume'] = money_flow_df['BuyOrderVolume'].rolling(5).mean().pct_change(3).fillna(0)\n",
    "\n",
    "# 主动做空移动平均(5min)-收益率(3min)\n",
    "money_flow_df['ReturnRate_MA_5_SellOrderVolume'] = money_flow_df['SellOrderVolume'].rolling(5).mean().pct_change(3).fillna(0)\n",
    "\n",
    "# 合约多空比收益率\n",
    "money_flow_df['ReturnRate_LongShortRatio'] = money_flow_df['LongShortRatio'].pct_change().fillna(0)"
   ]
  },
  {
   "cell_type": "code",
   "execution_count": 12,
   "metadata": {},
   "outputs": [],
   "source": [
    "money_flow_df.round(3).to_csv('./moneyflow.csv')"
   ]
  },
  {
   "cell_type": "code",
   "execution_count": 17,
   "metadata": {},
   "outputs": [],
   "source": [
    "kline = pd.read_csv('binance_swap_kline.BTCUSDT.from_trade.csv', index_col=0)"
   ]
  },
  {
   "cell_type": "code",
   "execution_count": 18,
   "metadata": {},
   "outputs": [],
   "source": [
    "interval= 5\n",
    "kline['vwap'] = (kline['turnover'] / kline['volume']).round(2)\n",
    "kline['label'] = kline['vwap'].pct_change(periods=interval).shift(-interval)"
   ]
  },
  {
   "cell_type": "code",
   "execution_count": 21,
   "metadata": {},
   "outputs": [],
   "source": [
    "money_flow_corr = money_flow_df.join(kline['label']).dropna().corr()"
   ]
  },
  {
   "cell_type": "code",
   "execution_count": 22,
   "metadata": {},
   "outputs": [],
   "source": [
    "money_flow_corr.round(3).to_csv('money_factor_corr.csv')"
   ]
  },
  {
   "cell_type": "code",
   "execution_count": null,
   "metadata": {},
   "outputs": [],
   "source": []
  }
 ],
 "metadata": {
  "kernelspec": {
   "display_name": "Python 3",
   "language": "python",
   "name": "python3"
  },
  "language_info": {
   "codemirror_mode": {
    "name": "ipython",
    "version": 3
   },
   "file_extension": ".py",
   "mimetype": "text/x-python",
   "name": "python",
   "nbconvert_exporter": "python",
   "pygments_lexer": "ipython3",
   "version": "3.8.5"
  }
 },
 "nbformat": 4,
 "nbformat_minor": 4
}
