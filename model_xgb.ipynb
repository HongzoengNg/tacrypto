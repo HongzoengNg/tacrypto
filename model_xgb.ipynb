{
 "cells": [
  {
   "cell_type": "code",
   "execution_count": 1,
   "metadata": {},
   "outputs": [],
   "source": [
    "import pandas as pd\n",
    "import numpy as np\n",
    "import matplotlib.pyplot as plt\n",
    "\n",
    "from pandas.plotting import register_matplotlib_converters\n",
    "register_matplotlib_converters()\n",
    "\n",
    "from tacrypto import talibCrypto\n",
    "\n",
    "import time"
   ]
  },
  {
   "cell_type": "code",
   "execution_count": 2,
   "metadata": {},
   "outputs": [],
   "source": [
    "from sklearn.metrics import precision_score, accuracy_score"
   ]
  },
  {
   "cell_type": "code",
   "execution_count": 3,
   "metadata": {},
   "outputs": [],
   "source": [
    "# minute_data_cols = ['open', 'high', 'low', 'close', 'volume', 'time']\n",
    "# binance_swap_min_BTCUSDT = pd.read_csv('binance_swap_kline.BTCUSDT.csv')\n",
    "# binance_swap_min_BTCUSDT['t'] = pd.to_datetime(binance_swap_min_BTCUSDT['t'], unit='ms')\n",
    "# binance_swap_min_BTCUSDT.columns = minute_data_cols\n",
    "# binance_swap_min_BTCUSDT.set_index('time', inplace=True)\n",
    "\n",
    "# binance_swap_min_BTCUSDT = binance_swap_min_BTCUSDT.loc[\"2019-09-09 02:51:00\":]\n",
    "\n",
    "# binance_swap_min_BTCUSDT = binance_swap_min_BTCUSDT.groupby(binance_swap_min_BTCUSDT.index).last()\n",
    "\n",
    "# binance_swap_min_BTCUSDT['vwap'] = (binance_swap_min_BTCUSDT['close'] + binance_swap_min_BTCUSDT['high'] + binance_swap_min_BTCUSDT['low']) / 3\n",
    "binance_swap_min_BTCUSDT = pd.read_csv('binance_swap_kline.BTCUSDT.from_trade.csv', index_col=0)\n",
    "binance_swap_min_BTCUSDT = binance_swap_min_BTCUSDT.dropna()"
   ]
  },
  {
   "cell_type": "code",
   "execution_count": 4,
   "metadata": {},
   "outputs": [],
   "source": [
    "binance_swap_min_BTCUSDT['vwap'] = (binance_swap_min_BTCUSDT['turnover'] / binance_swap_min_BTCUSDT['volume']).round(3)"
   ]
  },
  {
   "cell_type": "code",
   "execution_count": 5,
   "metadata": {},
   "outputs": [],
   "source": [
    "tacry = talibCrypto(binance_swap_min_BTCUSDT)"
   ]
  },
  {
   "cell_type": "code",
   "execution_count": 6,
   "metadata": {},
   "outputs": [
    {
     "name": "stdout",
     "output_type": "stream",
     "text": [
      "Runtime: 1.3193321228027344\n"
     ]
    }
   ],
   "source": [
    "start = time.time()\n",
    "taSeriesList = []\n",
    "for i in range(len(tacry.talib_function)):\n",
    "    taSeriesList.append(tacry.talib_function[i]())\n",
    "end = time.time()\n",
    "print(\"Runtime: {}\".format(end - start))"
   ]
  },
  {
   "cell_type": "code",
   "execution_count": 7,
   "metadata": {},
   "outputs": [],
   "source": [
    "interval= 5\n",
    "return_pd_series = binance_swap_min_BTCUSDT['vwap'].pct_change(periods=interval).shift(-interval)\n",
    "return_pd_series.name = '{}min_return'.format(interval)"
   ]
  },
  {
   "cell_type": "code",
   "execution_count": 8,
   "metadata": {},
   "outputs": [],
   "source": [
    "taSeriesList.append(return_pd_series)"
   ]
  },
  {
   "cell_type": "code",
   "execution_count": 9,
   "metadata": {},
   "outputs": [],
   "source": [
    "ta_df = pd.concat(taSeriesList, axis=1).astype('float32')"
   ]
  },
  {
   "cell_type": "code",
   "execution_count": 10,
   "metadata": {},
   "outputs": [],
   "source": [
    "ta_df.dropna(inplace=True)"
   ]
  },
  {
   "cell_type": "code",
   "execution_count": 11,
   "metadata": {},
   "outputs": [],
   "source": [
    "ta_df['label'] = ta_df['{}min_return'.format(interval)]"
   ]
  },
  {
   "cell_type": "code",
   "execution_count": 12,
   "metadata": {},
   "outputs": [],
   "source": [
    "ta_df.index = pd.DatetimeIndex(ta_df.index)"
   ]
  },
  {
   "cell_type": "code",
   "execution_count": 13,
   "metadata": {},
   "outputs": [],
   "source": [
    "ta_df.to_csv('test.csv')"
   ]
  },
  {
   "cell_type": "code",
   "execution_count": 14,
   "metadata": {},
   "outputs": [
    {
     "name": "stdout",
     "output_type": "stream",
     "text": [
      "43\n"
     ]
    }
   ],
   "source": [
    "ta_train_df = ta_df.loc[\"2019-09-20\":\"2020-10-05\"]\n",
    "ta_val_df = ta_df.loc[\"2020-10-06\":\"2020-11-06\"]\n",
    "ta_test_df = ta_df.loc[\"2020-11-06\":]\n",
    "\n",
    "feature_num = len(tacry.talib_function)\n",
    "print(feature_num)\n",
    "\n",
    "train_X = ta_train_df.iloc[:, :feature_num].values\n",
    "train_Y = ta_train_df['label'].values\n",
    "\n",
    "val_X = ta_val_df.iloc[:, :feature_num].values\n",
    "val_Y = ta_val_df['label'].values\n",
    "\n",
    "test_X = ta_test_df.iloc[:, :feature_num].values\n",
    "test_Y = ta_test_df['label'].values"
   ]
  },
  {
   "cell_type": "code",
   "execution_count": 15,
   "metadata": {},
   "outputs": [
    {
     "name": "stdout",
     "output_type": "stream",
     "text": [
      "(549654, 43)\n",
      "(549654,)\n",
      "(46097, 43)\n",
      "(46097,)\n",
      "(60037, 43)\n",
      "(60037,)\n"
     ]
    }
   ],
   "source": [
    "print(train_X.shape)\n",
    "print(train_Y.shape)\n",
    "print(val_X.shape)\n",
    "print(val_Y.shape)\n",
    "print(test_X.shape)\n",
    "print(test_Y.shape)"
   ]
  },
  {
   "cell_type": "code",
   "execution_count": 16,
   "metadata": {},
   "outputs": [],
   "source": [
    "import xgboost as xgb"
   ]
  },
  {
   "cell_type": "code",
   "execution_count": 17,
   "metadata": {},
   "outputs": [],
   "source": [
    "def huber_approx_obj(preds, dtrain):\n",
    "    d = preds - dtrain.get_label()\n",
    "    h = 1  #h is delta in the graphic\n",
    "    scale = 1 + (d / h) ** 2\n",
    "    scale_sqrt = np.sqrt(scale)\n",
    "    grad = d / scale_sqrt\n",
    "    hess = 1 / scale / scale_sqrt\n",
    "    return grad, hess"
   ]
  },
  {
   "cell_type": "code",
   "execution_count": 18,
   "metadata": {},
   "outputs": [],
   "source": [
    "Dtrain = xgb.DMatrix(data=train_X, label=train_Y)\n",
    "Dval = xgb.DMatrix(data=val_X, label=val_Y)\n",
    "Dtest = xgb.DMatrix(data=test_X, label=test_Y)"
   ]
  },
  {
   "cell_type": "code",
   "execution_count": 20,
   "metadata": {},
   "outputs": [
    {
     "name": "stdout",
     "output_type": "stream",
     "text": [
      "0.000936\n",
      "[0]\teval-mae:0.001441\n"
     ]
    }
   ],
   "source": [
    "params = {\n",
    "    'booster': 'gbtree',\n",
    "    'eta': 0.3,\n",
    "    'gamma': 0,\n",
    "    'max_depth': 3,\n",
    "    'min_child_weight': 1,\n",
    "    'subsample': 1,\n",
    "    'colsample_bytree': 1,\n",
    "    'lambda': 40,\n",
    "    'alpha': 10,\n",
    "    'tree_method': 'hist',\n",
    "#     \"objective\": \"reg:squarederror\", \n",
    "    'eval_metric': ['mae'],\n",
    "    'seed': 0\n",
    "}\n",
    "\n",
    "evals = {}\n",
    "booster = xgb.train(\n",
    "    params=params, \n",
    "    dtrain=Dtrain, evals=[(Dtrain, 'Train'), (Dval, 'Valid')],\n",
    "    num_boost_round=100,\n",
    "    verbose_eval=False,\n",
    "    early_stopping_rounds=10,\n",
    "    evals_result=evals,\n",
    "    obj=huber_approx_obj\n",
    ")\n",
    "\n",
    "print(evals['Valid']['mae'][-1])\n",
    "print(booster.eval(Dtest))"
   ]
  },
  {
   "cell_type": "code",
   "execution_count": 36,
   "metadata": {},
   "outputs": [],
   "source": [
    "# ta_df.corr().astype(\"float32\").to_csv('corr.csv')"
   ]
  },
  {
   "cell_type": "code",
   "execution_count": 21,
   "metadata": {},
   "outputs": [],
   "source": [
    "val_pred_Y = booster.predict(Dval)\n",
    "adjust_val_pred_Y = val_pred_Y"
   ]
  },
  {
   "cell_type": "code",
   "execution_count": 22,
   "metadata": {},
   "outputs": [
    {
     "data": {
      "text/plain": [
       "<matplotlib.legend.Legend at 0x1e5a945c970>"
      ]
     },
     "execution_count": 22,
     "metadata": {},
     "output_type": "execute_result"
    },
    {
     "data": {
      "image/png": "[encoded data removed]",
      "text/plain": [
       "<Figure size 1440x360 with 1 Axes>"
      ]
     },
     "metadata": {
      "needs_background": "light"
     },
     "output_type": "display_data"
    }
   ],
   "source": [
    "plt.figure(figsize=(20, 5))\n",
    "plt.plot(val_Y[:200], label='actual')\n",
    "plt.plot(adjust_val_pred_Y[:200], label='predict')\n",
    "plt.legend()"
   ]
  },
  {
   "cell_type": "code",
   "execution_count": 121,
   "metadata": {},
   "outputs": [],
   "source": [
    "def action_transform(x):\n",
    "    if x > 0.001:\n",
    "        return 1\n",
    "    elif x < -0.001:\n",
    "        return -1\n",
    "    else:\n",
    "        return 0"
   ]
  },
  {
   "cell_type": "code",
   "execution_count": 122,
   "metadata": {},
   "outputs": [],
   "source": [
    "val_true_action = list(map(action_transform, val_Y))\n",
    "val_pred_action = list(map(action_transform, adjust_val_pred_Y))"
   ]
  },
  {
   "cell_type": "code",
   "execution_count": 123,
   "metadata": {},
   "outputs": [
    {
     "data": {
      "text/plain": [
       "0.5362630208333333"
      ]
     },
     "execution_count": 123,
     "metadata": {},
     "output_type": "execute_result"
    }
   ],
   "source": [
    "(np.array(val_pred_action) == np.array(val_true_action)).sum() / len(val_true_action)"
   ]
  },
  {
   "cell_type": "code",
   "execution_count": 124,
   "metadata": {},
   "outputs": [],
   "source": [
    "actual_long = np.count_nonzero(np.array(val_true_action) == 1)\n",
    "actual_short = np.count_nonzero(np.array(val_true_action) == -1)\n",
    "actual_close = np.count_nonzero(np.array(val_true_action) == 0)"
   ]
  },
  {
   "cell_type": "code",
   "execution_count": 125,
   "metadata": {},
   "outputs": [
    {
     "name": "stdout",
     "output_type": "stream",
     "text": [
      "0.21455620208737416\n",
      "0.16437935272429333\n",
      "0.8153713366550277\n"
     ]
    }
   ],
   "source": [
    "pred_long = 0\n",
    "pred_short = 0\n",
    "pred_close = 0\n",
    "for i in range(len(val_true_action)):\n",
    "    if val_true_action[i] == 1 and val_pred_action[i] == 1:\n",
    "        pred_long += 1\n",
    "    elif val_true_action[i] == -1 and val_pred_action[i] == -1:\n",
    "        pred_short += 1\n",
    "    elif val_true_action[i] == 0 and val_pred_action[i] == 0:\n",
    "        pred_close += 1\n",
    "\n",
    "print(pred_long / actual_long)\n",
    "print(pred_short / actual_short)\n",
    "print(pred_close / actual_close)"
   ]
  },
  {
   "cell_type": "markdown",
   "metadata": {},
   "source": [
    "### Classification"
   ]
  },
  {
   "cell_type": "code",
   "execution_count": 177,
   "metadata": {},
   "outputs": [],
   "source": [
    "def action_transform(x):\n",
    "    if x > 0.001:\n",
    "        return 2\n",
    "    elif x < -0.001:\n",
    "        return 0\n",
    "    else:\n",
    "        return 1"
   ]
  },
  {
   "cell_type": "code",
   "execution_count": 178,
   "metadata": {},
   "outputs": [],
   "source": [
    "ta_df['label'] = ta_df['{}min_return'.format(interval)].apply(action_transform)"
   ]
  },
  {
   "cell_type": "code",
   "execution_count": 179,
   "metadata": {},
   "outputs": [
    {
     "name": "stdout",
     "output_type": "stream",
     "text": [
      "48\n"
     ]
    }
   ],
   "source": [
    "ta_train_df = ta_df.loc[\"2019-09-09\":\"2020-10-05\"]\n",
    "ta_val_df = ta_df.loc[\"2020-10-06\":\"2020-11-06\"]\n",
    "ta_test_df = ta_df.loc[\"2020-11-06\":]\n",
    "\n",
    "feature_num = len(tacry.talib_function)\n",
    "print(feature_num)\n",
    "\n",
    "train_X = ta_train_df.iloc[:, :feature_num].values\n",
    "train_Y = ta_train_df['label'].values\n",
    "\n",
    "val_X = ta_val_df.iloc[:, :feature_num].values\n",
    "val_Y = ta_val_df['label'].values\n",
    "\n",
    "test_X = ta_test_df.iloc[:, :feature_num].values\n",
    "test_Y = ta_test_df['label'].values"
   ]
  },
  {
   "cell_type": "code",
   "execution_count": 180,
   "metadata": {},
   "outputs": [],
   "source": [
    "train_long = np.count_nonzero(np.array(train_Y) == 2)\n",
    "train_short = np.count_nonzero(np.array(train_Y) == 0)\n",
    "train_close = np.count_nonzero(np.array(train_Y) == 1)"
   ]
  },
  {
   "cell_type": "code",
   "execution_count": 181,
   "metadata": {},
   "outputs": [
    {
     "data": {
      "text/plain": [
       "565677"
      ]
     },
     "execution_count": 181,
     "metadata": {},
     "output_type": "execute_result"
    }
   ],
   "source": [
    "len(train_Y)"
   ]
  },
  {
   "cell_type": "code",
   "execution_count": 182,
   "metadata": {},
   "outputs": [
    {
     "name": "stdout",
     "output_type": "stream",
     "text": [
      "1.3300563591022443\n",
      "1.3572102339648981\n",
      "0.6486558020744654\n"
     ]
    }
   ],
   "source": [
    "weight_for_2 = len(train_Y) / train_long * 0.33\n",
    "weight_for_0 = len(train_Y) / train_short * 0.33\n",
    "weight_for_1= len(train_Y) / train_close * 0.33\n",
    "print(weight_for_2)\n",
    "print(weight_for_0)\n",
    "print(weight_for_1)"
   ]
  },
  {
   "cell_type": "code",
   "execution_count": 183,
   "metadata": {},
   "outputs": [],
   "source": [
    "def getWeight(x):\n",
    "    if x == 2:\n",
    "        return weight_for_2\n",
    "    elif x == 0:\n",
    "        return  weight_for_0\n",
    "    else:\n",
    "        return weight_for_1\n",
    "\n",
    "weights = list(map(getWeight, train_Y))"
   ]
  },
  {
   "cell_type": "code",
   "execution_count": 184,
   "metadata": {},
   "outputs": [],
   "source": [
    "scaler = StandardScaler()\n",
    "train_features = scaler.fit_transform(train_X)\n",
    "val_features = scaler.transform(val_X)\n",
    "test_features = scaler.transform(test_X)\n",
    "\n",
    "Dtrain = xgb.DMatrix(data=train_features, label=train_Y, weight=weights)\n",
    "Dval = xgb.DMatrix(data=val_features, label=val_Y)\n",
    "Dtest = xgb.DMatrix(data=test_features, label=test_Y)"
   ]
  },
  {
   "cell_type": "code",
   "execution_count": 198,
   "metadata": {},
   "outputs": [
    {
     "data": {
      "text/plain": [
       "0.5411024305555555"
      ]
     },
     "execution_count": 198,
     "metadata": {},
     "output_type": "execute_result"
    }
   ],
   "source": [
    "params = {\n",
    "    'booster': 'gbtree',\n",
    "    'eta': 0.3,\n",
    "    'gamma': 0,\n",
    "    'max_depth': 6,\n",
    "    'min_child_weight': 8,\n",
    "    'subsample': 0.5,\n",
    "    'colsample_bytree': 0.5,\n",
    "    'lambda': 40,\n",
    "    'alpha': 10,\n",
    "    'tree_method': 'gpu_hist',\n",
    "    'objective': 'multi:softmax',\n",
    "    'num_class': 3,\n",
    "    'seed': 0\n",
    "}\n",
    "\n",
    "evals = {}\n",
    "booster = xgb.train(\n",
    "    params=params, \n",
    "    dtrain=Dtrain, evals=[(Dtrain, 'Train'), (Dval, 'Valid')],\n",
    "    num_boost_round=100,\n",
    "    verbose_eval=False,\n",
    "    early_stopping_rounds=10,\n",
    "    evals_result=evals\n",
    ")\n",
    "\n",
    "accuracy_score(y_true=val_Y, y_pred=booster.predict(Dval))"
   ]
  },
  {
   "cell_type": "code",
   "execution_count": 186,
   "metadata": {},
   "outputs": [],
   "source": [
    "val_pred_Y = booster.predict(Dval)"
   ]
  },
  {
   "cell_type": "code",
   "execution_count": 187,
   "metadata": {},
   "outputs": [],
   "source": [
    "actual_long = np.count_nonzero(np.array(val_Y) == 2)\n",
    "actual_short = np.count_nonzero(np.array(val_Y) == 0)\n",
    "actual_close = np.count_nonzero(np.array(val_Y) == 1)"
   ]
  },
  {
   "cell_type": "code",
   "execution_count": 188,
   "metadata": {},
   "outputs": [
    {
     "name": "stdout",
     "output_type": "stream",
     "text": [
      "0.42338597949570517\n",
      "0.4296394920114707\n",
      "0.6067715485111225\n"
     ]
    }
   ],
   "source": [
    "pred_long = 0\n",
    "pred_short = 0\n",
    "pred_close = 0\n",
    "for i in range(len(val_Y)):\n",
    "    if val_Y[i] == 2 and val_pred_Y[i] == 2:\n",
    "        pred_long += 1\n",
    "    elif val_Y[i] == 0 and val_pred_Y[i] == 0:\n",
    "        pred_short += 1\n",
    "    elif val_Y[i] == 1 and val_pred_Y[i] == 1:\n",
    "        pred_close += 1\n",
    "\n",
    "print(pred_long / actual_long)\n",
    "print(pred_short / actual_short)\n",
    "print(pred_close / actual_close)"
   ]
  },
  {
   "cell_type": "code",
   "execution_count": 189,
   "metadata": {},
   "outputs": [
    {
     "data": {
      "text/plain": [
       "0.5261501736111112"
      ]
     },
     "execution_count": 189,
     "metadata": {},
     "output_type": "execute_result"
    }
   ],
   "source": [
    "accuracy_score(val_Y, val_pred_Y)"
   ]
  },
  {
   "cell_type": "code",
   "execution_count": 190,
   "metadata": {},
   "outputs": [
    {
     "name": "stdout",
     "output_type": "stream",
     "text": [
      "0.5507102084163016\n",
      "0.594361334867664\n",
      "0.07351778656126483\n"
     ]
    }
   ],
   "source": [
    "test_pred_Y = booster.predict(Dtest)\n",
    "actual_long = np.count_nonzero(np.array(test_Y) == 2)\n",
    "actual_short = np.count_nonzero(np.array(test_Y) == 0)\n",
    "actual_close = np.count_nonzero(np.array(test_Y) == 1)\n",
    "pred_long = 0\n",
    "pred_short = 0\n",
    "pred_close = 0\n",
    "for i in range(len(test_Y)):\n",
    "    if test_Y[i] == 2 and test_pred_Y[i] == 2:\n",
    "        pred_long += 1\n",
    "    elif test_Y[i] == 0 and test_pred_Y[i] == 0:\n",
    "        pred_short += 1\n",
    "    elif test_Y[i] == 1 and test_pred_Y[i] == 1:\n",
    "        pred_close += 1\n",
    "\n",
    "print(pred_long / actual_long)\n",
    "print(pred_short / actual_short)\n",
    "print(pred_close / actual_close)"
   ]
  },
  {
   "cell_type": "code",
   "execution_count": 191,
   "metadata": {},
   "outputs": [
    {
     "data": {
      "text/plain": [
       "0.4003850509626274"
      ]
     },
     "execution_count": 191,
     "metadata": {},
     "output_type": "execute_result"
    }
   ],
   "source": [
    "accuracy_score(test_Y, test_pred_Y)"
   ]
  },
  {
   "cell_type": "code",
   "execution_count": null,
   "metadata": {},
   "outputs": [],
   "source": []
  }
 ],
 "metadata": {
  "kernelspec": {
   "display_name": "Python 3",
   "language": "python",
   "name": "python3"
  },
  "language_info": {
   "codemirror_mode": {
    "name": "ipython",
    "version": 3
   },
   "file_extension": ".py",
   "mimetype": "text/x-python",
   "name": "python",
   "nbconvert_exporter": "python",
   "pygments_lexer": "ipython3",
   "version": "3.8.5"
  }
 },
 "nbformat": 4,
 "nbformat_minor": 4
}
