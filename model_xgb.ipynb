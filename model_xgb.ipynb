{
 "cells": [
  {
   "cell_type": "code",
   "execution_count": 1,
   "metadata": {},
   "outputs": [],
   "source": [
    "import pandas as pd\n",
    "import numpy as np\n",
    "import matplotlib.pyplot as plt\n",
    "\n",
    "from pandas.plotting import register_matplotlib_converters\n",
    "register_matplotlib_converters()\n",
    "\n",
    "from tacrypto import talibCrypto\n",
    "\n",
    "import time"
   ]
  },
  {
   "cell_type": "code",
   "execution_count": 2,
   "metadata": {},
   "outputs": [],
   "source": [
    "from sklearn.metrics import precision_score, accuracy_score"
   ]
  },
  {
   "cell_type": "code",
   "execution_count": 3,
   "metadata": {},
   "outputs": [],
   "source": [
    "minute_data_cols = ['open', 'high', 'low', 'close', 'volume', 'time']\n",
    "binance_swap_min_BTCUSDT = pd.read_csv('binance_swap_kline.BTCUSDT.csv')\n",
    "binance_swap_min_BTCUSDT['t'] = pd.to_datetime(binance_swap_min_BTCUSDT['t'], unit='ms')\n",
    "binance_swap_min_BTCUSDT.columns = minute_data_cols\n",
    "binance_swap_min_BTCUSDT.set_index('time', inplace=True)\n",
    "\n",
    "binance_swap_min_BTCUSDT = binance_swap_min_BTCUSDT.loc[\"2019-09-09 02:51:00\":]\n",
    "\n",
    "binance_swap_min_BTCUSDT = binance_swap_min_BTCUSDT.groupby(binance_swap_min_BTCUSDT.index).last()\n",
    "\n",
    "binance_swap_min_BTCUSDT['avg_price'] = (binance_swap_min_BTCUSDT['close'] + binance_swap_min_BTCUSDT['high'] + binance_swap_min_BTCUSDT['low']) / 3"
   ]
  },
  {
   "cell_type": "code",
   "execution_count": 4,
   "metadata": {},
   "outputs": [
    {
     "data": {
      "text/html": [
       "<div>\n",
       "<style scoped>\n",
       "    .dataframe tbody tr th:only-of-type {\n",
       "        vertical-align: middle;\n",
       "    }\n",
       "\n",
       "    .dataframe tbody tr th {\n",
       "        vertical-align: top;\n",
       "    }\n",
       "\n",
       "    .dataframe thead th {\n",
       "        text-align: right;\n",
       "    }\n",
       "</style>\n",
       "<table border=\"1\" class=\"dataframe\">\n",
       "  <thead>\n",
       "    <tr style=\"text-align: right;\">\n",
       "      <th></th>\n",
       "      <th>open</th>\n",
       "      <th>high</th>\n",
       "      <th>low</th>\n",
       "      <th>close</th>\n",
       "      <th>volume</th>\n",
       "      <th>avg_price</th>\n",
       "    </tr>\n",
       "    <tr>\n",
       "      <th>time</th>\n",
       "      <th></th>\n",
       "      <th></th>\n",
       "      <th></th>\n",
       "      <th></th>\n",
       "      <th></th>\n",
       "      <th></th>\n",
       "    </tr>\n",
       "  </thead>\n",
       "  <tbody>\n",
       "    <tr>\n",
       "      <th>2019-09-09 02:51:00</th>\n",
       "      <td>10316.62</td>\n",
       "      <td>10316.62</td>\n",
       "      <td>10316.62</td>\n",
       "      <td>10316.62</td>\n",
       "      <td>4.421</td>\n",
       "      <td>10316.620000</td>\n",
       "    </tr>\n",
       "    <tr>\n",
       "      <th>2019-09-09 02:52:00</th>\n",
       "      <td>10316.62</td>\n",
       "      <td>10316.65</td>\n",
       "      <td>10316.29</td>\n",
       "      <td>10316.63</td>\n",
       "      <td>11.954</td>\n",
       "      <td>10316.523333</td>\n",
       "    </tr>\n",
       "    <tr>\n",
       "      <th>2019-09-09 02:53:00</th>\n",
       "      <td>10316.63</td>\n",
       "      <td>10316.63</td>\n",
       "      <td>10315.14</td>\n",
       "      <td>10316.18</td>\n",
       "      <td>12.773</td>\n",
       "      <td>10315.983333</td>\n",
       "    </tr>\n",
       "    <tr>\n",
       "      <th>2019-09-09 02:54:00</th>\n",
       "      <td>10316.18</td>\n",
       "      <td>10316.18</td>\n",
       "      <td>10314.14</td>\n",
       "      <td>10314.14</td>\n",
       "      <td>9.889</td>\n",
       "      <td>10314.820000</td>\n",
       "    </tr>\n",
       "    <tr>\n",
       "      <th>2019-09-09 02:55:00</th>\n",
       "      <td>10316.14</td>\n",
       "      <td>10316.30</td>\n",
       "      <td>10315.47</td>\n",
       "      <td>10316.26</td>\n",
       "      <td>10.601</td>\n",
       "      <td>10316.010000</td>\n",
       "    </tr>\n",
       "    <tr>\n",
       "      <th>...</th>\n",
       "      <td>...</td>\n",
       "      <td>...</td>\n",
       "      <td>...</td>\n",
       "      <td>...</td>\n",
       "      <td>...</td>\n",
       "      <td>...</td>\n",
       "    </tr>\n",
       "    <tr>\n",
       "      <th>2020-12-06 15:55:00</th>\n",
       "      <td>19108.96</td>\n",
       "      <td>19140.00</td>\n",
       "      <td>19108.00</td>\n",
       "      <td>19133.35</td>\n",
       "      <td>88.668</td>\n",
       "      <td>19127.116667</td>\n",
       "    </tr>\n",
       "    <tr>\n",
       "      <th>2020-12-06 15:56:00</th>\n",
       "      <td>19133.35</td>\n",
       "      <td>19138.97</td>\n",
       "      <td>19126.07</td>\n",
       "      <td>19129.59</td>\n",
       "      <td>59.505</td>\n",
       "      <td>19131.543333</td>\n",
       "    </tr>\n",
       "    <tr>\n",
       "      <th>2020-12-06 15:57:00</th>\n",
       "      <td>19129.59</td>\n",
       "      <td>19129.59</td>\n",
       "      <td>19111.78</td>\n",
       "      <td>19122.55</td>\n",
       "      <td>102.481</td>\n",
       "      <td>19121.306667</td>\n",
       "    </tr>\n",
       "    <tr>\n",
       "      <th>2020-12-06 15:58:00</th>\n",
       "      <td>19122.55</td>\n",
       "      <td>19128.07</td>\n",
       "      <td>19120.00</td>\n",
       "      <td>19120.01</td>\n",
       "      <td>44.534</td>\n",
       "      <td>19122.693333</td>\n",
       "    </tr>\n",
       "    <tr>\n",
       "      <th>2020-12-06 15:59:00</th>\n",
       "      <td>19120.01</td>\n",
       "      <td>19133.86</td>\n",
       "      <td>19115.00</td>\n",
       "      <td>19132.16</td>\n",
       "      <td>49.847</td>\n",
       "      <td>19127.006667</td>\n",
       "    </tr>\n",
       "  </tbody>\n",
       "</table>\n",
       "<p>654549 rows × 6 columns</p>\n",
       "</div>"
      ],
      "text/plain": [
       "                         open      high       low     close   volume  \\\n",
       "time                                                                   \n",
       "2019-09-09 02:51:00  10316.62  10316.62  10316.62  10316.62    4.421   \n",
       "2019-09-09 02:52:00  10316.62  10316.65  10316.29  10316.63   11.954   \n",
       "2019-09-09 02:53:00  10316.63  10316.63  10315.14  10316.18   12.773   \n",
       "2019-09-09 02:54:00  10316.18  10316.18  10314.14  10314.14    9.889   \n",
       "2019-09-09 02:55:00  10316.14  10316.30  10315.47  10316.26   10.601   \n",
       "...                       ...       ...       ...       ...      ...   \n",
       "2020-12-06 15:55:00  19108.96  19140.00  19108.00  19133.35   88.668   \n",
       "2020-12-06 15:56:00  19133.35  19138.97  19126.07  19129.59   59.505   \n",
       "2020-12-06 15:57:00  19129.59  19129.59  19111.78  19122.55  102.481   \n",
       "2020-12-06 15:58:00  19122.55  19128.07  19120.00  19120.01   44.534   \n",
       "2020-12-06 15:59:00  19120.01  19133.86  19115.00  19132.16   49.847   \n",
       "\n",
       "                        avg_price  \n",
       "time                               \n",
       "2019-09-09 02:51:00  10316.620000  \n",
       "2019-09-09 02:52:00  10316.523333  \n",
       "2019-09-09 02:53:00  10315.983333  \n",
       "2019-09-09 02:54:00  10314.820000  \n",
       "2019-09-09 02:55:00  10316.010000  \n",
       "...                           ...  \n",
       "2020-12-06 15:55:00  19127.116667  \n",
       "2020-12-06 15:56:00  19131.543333  \n",
       "2020-12-06 15:57:00  19121.306667  \n",
       "2020-12-06 15:58:00  19122.693333  \n",
       "2020-12-06 15:59:00  19127.006667  \n",
       "\n",
       "[654549 rows x 6 columns]"
      ]
     },
     "execution_count": 4,
     "metadata": {},
     "output_type": "execute_result"
    }
   ],
   "source": [
    "binance_swap_min_BTCUSDT"
   ]
  },
  {
   "cell_type": "code",
   "execution_count": 5,
   "metadata": {},
   "outputs": [],
   "source": [
    "tacry = talibCrypto(binance_swap_min_BTCUSDT)"
   ]
  },
  {
   "cell_type": "code",
   "execution_count": 6,
   "metadata": {},
   "outputs": [
    {
     "name": "stdout",
     "output_type": "stream",
     "text": [
      "Runtime: 1.321202039718628\n"
     ]
    }
   ],
   "source": [
    "start = time.time()\n",
    "taSeriesList = []\n",
    "for i in range(len(tacry.talib_function)):\n",
    "    taSeriesList.append(tacry.talib_function[i]())\n",
    "end = time.time()\n",
    "print(\"Runtime: {}\".format(end - start))"
   ]
  },
  {
   "cell_type": "code",
   "execution_count": 7,
   "metadata": {},
   "outputs": [],
   "source": [
    "interval= 5\n",
    "return_pd_series = binance_swap_min_BTCUSDT['avg_price'].pct_change(periods=interval).shift(-interval)\n",
    "return_pd_series.name = '5min_return'"
   ]
  },
  {
   "cell_type": "code",
   "execution_count": 8,
   "metadata": {},
   "outputs": [],
   "source": [
    "taSeriesList.append(return_pd_series)"
   ]
  },
  {
   "cell_type": "code",
   "execution_count": 9,
   "metadata": {},
   "outputs": [],
   "source": [
    "ta_df = pd.concat(taSeriesList, axis=1).astype('float32')"
   ]
  },
  {
   "cell_type": "code",
   "execution_count": 10,
   "metadata": {},
   "outputs": [],
   "source": [
    "ta_df.dropna(inplace=True)"
   ]
  },
  {
   "cell_type": "code",
   "execution_count": 207,
   "metadata": {},
   "outputs": [],
   "source": [
    "ta_df['label'] = (ta_df['5min_return'] - ta_df['5min_return'].min()) / (ta_df['5min_return'].max() - ta_df['5min_return'].min())"
   ]
  },
  {
   "cell_type": "code",
   "execution_count": 208,
   "metadata": {},
   "outputs": [],
   "source": [
    "ta_train_df = ta_df.loc[\"2019-09-09\":\"2020-08-05\"]\n",
    "ta_val_df = ta_df.loc[\"2020-08-06\":\"2020-10-06\"]\n",
    "ta_test_df = ta_df.loc[\"2020-10-06\":]"
   ]
  },
  {
   "cell_type": "code",
   "execution_count": 209,
   "metadata": {},
   "outputs": [
    {
     "name": "stdout",
     "output_type": "stream",
     "text": [
      "43\n"
     ]
    }
   ],
   "source": [
    "feature_num = len(tacry.talib_function)\n",
    "print(feature_num)"
   ]
  },
  {
   "cell_type": "code",
   "execution_count": 211,
   "metadata": {},
   "outputs": [],
   "source": [
    "train_X = ta_train_df.iloc[:, :feature_num].values\n",
    "train_Y = ta_train_df['label'].values\n",
    "\n",
    "val_X = ta_val_df.iloc[:, :feature_num].values\n",
    "val_Y = ta_val_df['label'].values\n",
    "\n",
    "test_X = ta_test_df.iloc[:, :feature_num].values\n",
    "test_Y = ta_test_df['label'].values"
   ]
  },
  {
   "cell_type": "code",
   "execution_count": 212,
   "metadata": {},
   "outputs": [],
   "source": [
    "import xgboost as xgb"
   ]
  },
  {
   "cell_type": "code",
   "execution_count": 213,
   "metadata": {},
   "outputs": [],
   "source": [
    "def huber_approx_obj(preds, dtrain):\n",
    "    d = preds - dtrain.get_label()\n",
    "    h = 1  #h is delta in the graphic\n",
    "    scale = 1 + (d / h) ** 2\n",
    "    scale_sqrt = np.sqrt(scale)\n",
    "    grad = d / scale_sqrt\n",
    "    hess = 1 / scale / scale_sqrt\n",
    "    return grad, hess"
   ]
  },
  {
   "cell_type": "code",
   "execution_count": 214,
   "metadata": {},
   "outputs": [],
   "source": [
    "from sklearn.preprocessing import StandardScaler\n",
    "scaler = StandardScaler()\n",
    "train_features = scaler.fit_transform(train_X)\n",
    "val_features = scaler.transform(val_X)\n",
    "test_features = scaler.transform(test_X)\n",
    "\n",
    "Dtrain = xgb.DMatrix(data=train_features, label=train_Y)\n",
    "Dval = xgb.DMatrix(data=val_features, label=val_Y)\n",
    "Dtest = xgb.DMatrix(data=test_features, label=test_Y)\n",
    "\n",
    "# Dtrain = xgb.DMatrix(data=train_X, label=train_Y)\n",
    "# Dval = xgb.DMatrix(data=val_X, label=val_Y)\n",
    "# Dtest = xgb.DMatrix(data=test_X, label=test_Y)"
   ]
  },
  {
   "cell_type": "code",
   "execution_count": 217,
   "metadata": {},
   "outputs": [
    {
     "name": "stdout",
     "output_type": "stream",
     "text": [
      "0.003149\n",
      "[0]\teval-mae:0.004287\n"
     ]
    }
   ],
   "source": [
    "params = {\n",
    "    'booster': 'gbtree',\n",
    "    'eta': 0.3,\n",
    "    'gamma': 0,\n",
    "    'max_depth': 3,\n",
    "    'min_child_weight': 1,\n",
    "    'subsample': 1,\n",
    "    'colsample_bytree': 1,\n",
    "    'lambda': 40,\n",
    "    'alpha': 10,\n",
    "    'tree_method': 'gpu_hist',\n",
    "    'eval_metric': ['mae'],\n",
    "    'seed': 0\n",
    "}\n",
    "\n",
    "evals = {}\n",
    "booster = xgb.train(\n",
    "    params=params, \n",
    "    dtrain=Dtrain, evals=[(Dtrain, 'Train'), (Dval, 'Valid')],\n",
    "    num_boost_round=100,\n",
    "    verbose_eval=False,\n",
    "    early_stopping_rounds=10,\n",
    "    evals_result=evals,\n",
    "    obj=huber_approx_obj\n",
    ")\n",
    "\n",
    "print(evals['Valid']['mae'][-1])\n",
    "print(booster.eval(Dtest))"
   ]
  },
  {
   "cell_type": "code",
   "execution_count": 193,
   "metadata": {},
   "outputs": [],
   "source": [
    "# ta_df.corr().astype(\"float32\").to_csv('corr.csv')"
   ]
  },
  {
   "cell_type": "code",
   "execution_count": 218,
   "metadata": {},
   "outputs": [],
   "source": [
    "val_pred_Y = booster.predict(Dval)"
   ]
  },
  {
   "cell_type": "code",
   "execution_count": 221,
   "metadata": {},
   "outputs": [
    {
     "data": {
      "text/plain": [
       "0.4278537"
      ]
     },
     "execution_count": 221,
     "metadata": {},
     "output_type": "execute_result"
    }
   ],
   "source": [
    "val_pred_Y.min()"
   ]
  },
  {
   "cell_type": "code",
   "execution_count": 222,
   "metadata": {},
   "outputs": [],
   "source": [
    "# train_pred_y = booster.predict(Dtrain)\n",
    "# scale_num = np.mean(train_Y / train_pred_y)\n",
    "# print(scale_num)\n",
    "\n",
    "# adjust_val_pred_Y = val_pred_Y * scale_num\n",
    "adjust_val_pred_Y = (val_pred_Y - val_pred_Y.min()) / (val_pred_Y.max() - val_pred_Y.min())"
   ]
  },
  {
   "cell_type": "code",
   "execution_count": 223,
   "metadata": {},
   "outputs": [
    {
     "data": {
      "text/plain": [
       "<matplotlib.legend.Legend at 0x1346d537c70>"
      ]
     },
     "execution_count": 223,
     "metadata": {},
     "output_type": "execute_result"
    },
    {
     "data": {
      "image/png": "[encoded data removed]",
      "text/plain": [
       "<Figure size 1440x360 with 1 Axes>"
      ]
     },
     "metadata": {
      "needs_background": "light"
     },
     "output_type": "display_data"
    }
   ],
   "source": [
    "plt.figure(figsize=(20, 5))\n",
    "plt.plot(val_Y[:200], label='actual')\n",
    "plt.plot(adjust_val_pred_Y[:200], label='predict')\n",
    "plt.legend()"
   ]
  },
  {
   "cell_type": "code",
   "execution_count": 179,
   "metadata": {},
   "outputs": [],
   "source": [
    "def action_transform(x):\n",
    "    if x > 0.001:\n",
    "        return 1\n",
    "    elif x < -0.001:\n",
    "        return -1\n",
    "    else:\n",
    "        return 0"
   ]
  },
  {
   "cell_type": "code",
   "execution_count": 180,
   "metadata": {},
   "outputs": [],
   "source": [
    "val_true_action = list(map(action_transform, val_Y))\n",
    "val_pred_action = list(map(action_transform, adjust_val_pred_Y))"
   ]
  },
  {
   "cell_type": "code",
   "execution_count": 181,
   "metadata": {},
   "outputs": [
    {
     "data": {
      "text/plain": [
       "0.39404121863799285"
      ]
     },
     "execution_count": 181,
     "metadata": {},
     "output_type": "execute_result"
    }
   ],
   "source": [
    "(np.array(val_pred_action) == np.array(val_true_action)).sum() / len(val_true_action)"
   ]
  },
  {
   "cell_type": "code",
   "execution_count": 182,
   "metadata": {},
   "outputs": [],
   "source": [
    "actual_long = np.count_nonzero(np.array(val_true_action) == 1)\n",
    "actual_short = np.count_nonzero(np.array(val_true_action) == -1)\n",
    "actual_close = np.count_nonzero(np.array(val_true_action) == 0)"
   ]
  },
  {
   "cell_type": "code",
   "execution_count": 183,
   "metadata": {},
   "outputs": [
    {
     "name": "stdout",
     "output_type": "stream",
     "text": [
      "0.4088835713751589\n",
      "0.43295946045011363\n",
      "0.3823274339125687\n"
     ]
    }
   ],
   "source": [
    "pred_long = 0\n",
    "pred_short = 0\n",
    "pred_close = 0\n",
    "for i in range(len(val_true_action)):\n",
    "    if val_true_action[i] == 1 and val_pred_action[i] == 1:\n",
    "        pred_long += 1\n",
    "    elif val_true_action[i] == -1 and val_pred_action[i] == -1:\n",
    "        pred_short += 1\n",
    "    elif val_true_action[i] == 0 and val_pred_action[i] == 0:\n",
    "        pred_close += 1\n",
    "\n",
    "print(pred_long / actual_long)\n",
    "print(pred_short / actual_short)\n",
    "print(pred_close / actual_close)"
   ]
  },
  {
   "cell_type": "code",
   "execution_count": null,
   "metadata": {},
   "outputs": [],
   "source": []
  }
 ],
 "metadata": {
  "kernelspec": {
   "display_name": "Python 3",
   "language": "python",
   "name": "python3"
  },
  "language_info": {
   "codemirror_mode": {
    "name": "ipython",
    "version": 3
   },
   "file_extension": ".py",
   "mimetype": "text/x-python",
   "name": "python",
   "nbconvert_exporter": "python",
   "pygments_lexer": "ipython3",
   "version": "3.8.5"
  }
 },
 "nbformat": 4,
 "nbformat_minor": 4
}
